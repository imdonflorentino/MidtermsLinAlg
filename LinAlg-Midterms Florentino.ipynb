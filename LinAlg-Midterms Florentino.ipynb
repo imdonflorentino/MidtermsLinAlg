{
 "cells": [
  {
   "cell_type": "markdown",
   "metadata": {},
   "source": [
    "<h1>Linear Algebra (CpE210A)"
   ]
  },
  {
   "cell_type": "markdown",
   "metadata": {},
   "source": [
    "<h3>Midterms Project"
   ]
  },
  {
   "cell_type": "markdown",
   "metadata": {},
   "source": [
    "Coded and submitted by:<br>\n",
    "<i>Florentino, Aris Angelo Don J. <br>\n",
    "    201814462 <br>\n",
    "   SectionCpE210A </i>"
   ]
  },
  {
   "cell_type": "markdown",
   "metadata": {},
   "source": [
    "Directions\n",
    "This Jupyter Notebook will serve as your base code for your Midterm Project. You must further format and provide complete discussion on the given topic. \n",
    "- Provide all necessary explanations for specific code blocks. \n",
    "- Provide illustrations for key results.\n",
    "- Observe clean code (intuitive variable names, proper commenting, proper code spacing)\n",
    "- Provide a summary discussion at the end\n",
    "\n",
    "Failure to use this format or failure to update the document will be given a deduction equivalent to 50% of the original score. "
   ]
  },
  {
   "cell_type": "markdown",
   "metadata": {},
   "source": [
    "### Case"
   ]
  },
  {
   "cell_type": "markdown",
   "metadata": {},
   "source": [
    "Bebang is back to consult you about her business. Furthering her data analytics initiative she asks you for help to compute some relevant data. Now she is asking you to compute and visualize her sales and costs for the past year. She has given you the datasets attached to her request."
   ]
  },
  {
   "cell_type": "markdown",
   "metadata": {},
   "source": [
    "### Problem"
   ]
  },
  {
   "cell_type": "markdown",
   "metadata": {},
   "source": [
    "State and explain Bebang's problem here and provide the deliverables."
   ]
  },
  {
   "cell_type": "markdown",
   "metadata": {},
   "source": [
    "# Proof of Concept"
   ]
  },
  {
   "cell_type": "markdown",
   "metadata": {},
   "source": [
    "Now that you have a grasp on the requirements we need to start with making a program to prove that her problem is solvable. As a Linear Algebra student, we will be focusin on applying vector operations to meet her needs. First, we need to import her data. We will use the `pandas` library for this. For more information you can look into their documentation [here](https://pandas.pydata.org/)."
   ]
  },
  {
   "cell_type": "code",
   "execution_count": 2,
   "metadata": {},
   "outputs": [],
   "source": [
    "import matplotlib.pyplot as plt\n",
    "import matplotlib\n",
    "import numpy as np\n",
    "import pandas as pd\n",
    "\n",
    "%matplotlib inline"
   ]
  },
  {
   "cell_type": "code",
   "execution_count": 3,
   "metadata": {},
   "outputs": [],
   "source": [
    "prices = pd.read_csv(r'C:\\Users\\HP Mini\\Downloads\\bebang-prices.csv')\n",
    "sales = pd.read_csv(r'C:\\Users\\HP Mini\\Downloads\\bebang-sales.csv')"
   ]
  },
  {
   "cell_type": "code",
   "execution_count": 4,
   "metadata": {},
   "outputs": [
    {
     "data": {
      "text/html": [
       "<div>\n",
       "<style scoped>\n",
       "    .dataframe tbody tr th:only-of-type {\n",
       "        vertical-align: middle;\n",
       "    }\n",
       "\n",
       "    .dataframe tbody tr th {\n",
       "        vertical-align: top;\n",
       "    }\n",
       "\n",
       "    .dataframe thead th {\n",
       "        text-align: right;\n",
       "    }\n",
       "</style>\n",
       "<table border=\"1\" class=\"dataframe\">\n",
       "  <thead>\n",
       "    <tr style=\"text-align: right;\">\n",
       "      <th></th>\n",
       "      <th>Unnamed: 0</th>\n",
       "      <th>red velvet</th>\n",
       "      <th>oreo</th>\n",
       "      <th>sugar glazed</th>\n",
       "      <th>almond honey</th>\n",
       "      <th>matcha</th>\n",
       "      <th>strawberry cream</th>\n",
       "      <th>brown sugar boba</th>\n",
       "      <th>furits and nuts</th>\n",
       "      <th>dark chocolate</th>\n",
       "      <th>chocolate and orange</th>\n",
       "      <th>choco mint</th>\n",
       "      <th>choco butter naught</th>\n",
       "    </tr>\n",
       "  </thead>\n",
       "  <tbody>\n",
       "    <tr>\n",
       "      <th>0</th>\n",
       "      <td>price per piece</td>\n",
       "      <td>35</td>\n",
       "      <td>25</td>\n",
       "      <td>20</td>\n",
       "      <td>35</td>\n",
       "      <td>50</td>\n",
       "      <td>40</td>\n",
       "      <td>40</td>\n",
       "      <td>45</td>\n",
       "      <td>30</td>\n",
       "      <td>40</td>\n",
       "      <td>45</td>\n",
       "      <td>45</td>\n",
       "    </tr>\n",
       "    <tr>\n",
       "      <th>1</th>\n",
       "      <td>cost per piece</td>\n",
       "      <td>25</td>\n",
       "      <td>15</td>\n",
       "      <td>10</td>\n",
       "      <td>20</td>\n",
       "      <td>35</td>\n",
       "      <td>31</td>\n",
       "      <td>30</td>\n",
       "      <td>25</td>\n",
       "      <td>15</td>\n",
       "      <td>25</td>\n",
       "      <td>32</td>\n",
       "      <td>31</td>\n",
       "    </tr>\n",
       "  </tbody>\n",
       "</table>\n",
       "</div>"
      ],
      "text/plain": [
       "        Unnamed: 0  red velvet  oreo  sugar glazed  almond honey  matcha  \\\n",
       "0  price per piece          35    25            20            35      50   \n",
       "1   cost per piece          25    15            10            20      35   \n",
       "\n",
       "   strawberry cream  brown sugar boba  furits and nuts  dark chocolate  \\\n",
       "0                40                40               45              30   \n",
       "1                31                30               25              15   \n",
       "\n",
       "   chocolate and orange  choco mint  choco butter naught  \n",
       "0                    40          45                   45  \n",
       "1                    25          32                   31  "
      ]
     },
     "execution_count": 4,
     "metadata": {},
     "output_type": "execute_result"
    }
   ],
   "source": [
    "prices"
   ]
  },
  {
   "cell_type": "code",
   "execution_count": 5,
   "metadata": {},
   "outputs": [
    {
     "data": {
      "text/html": [
       "<div>\n",
       "<style scoped>\n",
       "    .dataframe tbody tr th:only-of-type {\n",
       "        vertical-align: middle;\n",
       "    }\n",
       "\n",
       "    .dataframe tbody tr th {\n",
       "        vertical-align: top;\n",
       "    }\n",
       "\n",
       "    .dataframe thead th {\n",
       "        text-align: right;\n",
       "    }\n",
       "</style>\n",
       "<table border=\"1\" class=\"dataframe\">\n",
       "  <thead>\n",
       "    <tr style=\"text-align: right;\">\n",
       "      <th></th>\n",
       "      <th>flavor</th>\n",
       "      <th>january</th>\n",
       "      <th>february</th>\n",
       "      <th>march</th>\n",
       "      <th>april</th>\n",
       "      <th>may</th>\n",
       "      <th>june</th>\n",
       "      <th>july</th>\n",
       "      <th>august</th>\n",
       "      <th>september</th>\n",
       "      <th>october</th>\n",
       "      <th>november</th>\n",
       "      <th>december</th>\n",
       "    </tr>\n",
       "  </thead>\n",
       "  <tbody>\n",
       "    <tr>\n",
       "      <th>0</th>\n",
       "      <td>red velvet</td>\n",
       "      <td>781</td>\n",
       "      <td>524</td>\n",
       "      <td>364</td>\n",
       "      <td>157</td>\n",
       "      <td>894</td>\n",
       "      <td>56</td>\n",
       "      <td>89</td>\n",
       "      <td>41</td>\n",
       "      <td>23</td>\n",
       "      <td>78</td>\n",
       "      <td>231</td>\n",
       "      <td>899</td>\n",
       "    </tr>\n",
       "    <tr>\n",
       "      <th>1</th>\n",
       "      <td>oreo</td>\n",
       "      <td>210</td>\n",
       "      <td>324</td>\n",
       "      <td>344</td>\n",
       "      <td>32</td>\n",
       "      <td>123</td>\n",
       "      <td>1</td>\n",
       "      <td>3</td>\n",
       "      <td>0</td>\n",
       "      <td>1</td>\n",
       "      <td>6</td>\n",
       "      <td>312</td>\n",
       "      <td>548</td>\n",
       "    </tr>\n",
       "    <tr>\n",
       "      <th>2</th>\n",
       "      <td>sugar glazed</td>\n",
       "      <td>599</td>\n",
       "      <td>674</td>\n",
       "      <td>854</td>\n",
       "      <td>14</td>\n",
       "      <td>467</td>\n",
       "      <td>78</td>\n",
       "      <td>36</td>\n",
       "      <td>48</td>\n",
       "      <td>75</td>\n",
       "      <td>98</td>\n",
       "      <td>781</td>\n",
       "      <td>1602</td>\n",
       "    </tr>\n",
       "    <tr>\n",
       "      <th>3</th>\n",
       "      <td>almond honey</td>\n",
       "      <td>124</td>\n",
       "      <td>112</td>\n",
       "      <td>114</td>\n",
       "      <td>23</td>\n",
       "      <td>198</td>\n",
       "      <td>12</td>\n",
       "      <td>32</td>\n",
       "      <td>41</td>\n",
       "      <td>23</td>\n",
       "      <td>36</td>\n",
       "      <td>300</td>\n",
       "      <td>566</td>\n",
       "    </tr>\n",
       "    <tr>\n",
       "      <th>4</th>\n",
       "      <td>matcha</td>\n",
       "      <td>645</td>\n",
       "      <td>498</td>\n",
       "      <td>885</td>\n",
       "      <td>98</td>\n",
       "      <td>177</td>\n",
       "      <td>98</td>\n",
       "      <td>43</td>\n",
       "      <td>96</td>\n",
       "      <td>26</td>\n",
       "      <td>71</td>\n",
       "      <td>549</td>\n",
       "      <td>897</td>\n",
       "    </tr>\n",
       "    <tr>\n",
       "      <th>5</th>\n",
       "      <td>strawberry cream</td>\n",
       "      <td>210</td>\n",
       "      <td>372</td>\n",
       "      <td>369</td>\n",
       "      <td>78</td>\n",
       "      <td>163</td>\n",
       "      <td>26</td>\n",
       "      <td>45</td>\n",
       "      <td>22</td>\n",
       "      <td>54</td>\n",
       "      <td>41</td>\n",
       "      <td>207</td>\n",
       "      <td>456</td>\n",
       "    </tr>\n",
       "    <tr>\n",
       "      <th>6</th>\n",
       "      <td>brown sugar boba</td>\n",
       "      <td>981</td>\n",
       "      <td>380</td>\n",
       "      <td>154</td>\n",
       "      <td>14</td>\n",
       "      <td>147</td>\n",
       "      <td>15</td>\n",
       "      <td>98</td>\n",
       "      <td>33</td>\n",
       "      <td>23</td>\n",
       "      <td>36</td>\n",
       "      <td>552</td>\n",
       "      <td>633</td>\n",
       "    </tr>\n",
       "    <tr>\n",
       "      <th>7</th>\n",
       "      <td>furits and nuts</td>\n",
       "      <td>478</td>\n",
       "      <td>462</td>\n",
       "      <td>354</td>\n",
       "      <td>49</td>\n",
       "      <td>89</td>\n",
       "      <td>0</td>\n",
       "      <td>1</td>\n",
       "      <td>0</td>\n",
       "      <td>1</td>\n",
       "      <td>8</td>\n",
       "      <td>335</td>\n",
       "      <td>214</td>\n",
       "    </tr>\n",
       "    <tr>\n",
       "      <th>8</th>\n",
       "      <td>dark chocolate</td>\n",
       "      <td>598</td>\n",
       "      <td>203</td>\n",
       "      <td>36</td>\n",
       "      <td>96</td>\n",
       "      <td>789</td>\n",
       "      <td>4</td>\n",
       "      <td>5</td>\n",
       "      <td>0</td>\n",
       "      <td>8</td>\n",
       "      <td>0</td>\n",
       "      <td>789</td>\n",
       "      <td>458</td>\n",
       "    </tr>\n",
       "    <tr>\n",
       "      <th>9</th>\n",
       "      <td>chocolate and orange</td>\n",
       "      <td>324</td>\n",
       "      <td>123</td>\n",
       "      <td>48</td>\n",
       "      <td>32</td>\n",
       "      <td>65</td>\n",
       "      <td>74</td>\n",
       "      <td>78</td>\n",
       "      <td>45</td>\n",
       "      <td>89</td>\n",
       "      <td>100</td>\n",
       "      <td>632</td>\n",
       "      <td>231</td>\n",
       "    </tr>\n",
       "    <tr>\n",
       "      <th>10</th>\n",
       "      <td>choco mint</td>\n",
       "      <td>458</td>\n",
       "      <td>412</td>\n",
       "      <td>78</td>\n",
       "      <td>78</td>\n",
       "      <td>78</td>\n",
       "      <td>7</td>\n",
       "      <td>3</td>\n",
       "      <td>8</td>\n",
       "      <td>2</td>\n",
       "      <td>1</td>\n",
       "      <td>323</td>\n",
       "      <td>564</td>\n",
       "    </tr>\n",
       "    <tr>\n",
       "      <th>11</th>\n",
       "      <td>choco butter naught</td>\n",
       "      <td>778</td>\n",
       "      <td>586</td>\n",
       "      <td>645</td>\n",
       "      <td>100</td>\n",
       "      <td>987</td>\n",
       "      <td>63</td>\n",
       "      <td>36</td>\n",
       "      <td>89</td>\n",
       "      <td>78</td>\n",
       "      <td>99</td>\n",
       "      <td>784</td>\n",
       "      <td>2310</td>\n",
       "    </tr>\n",
       "  </tbody>\n",
       "</table>\n",
       "</div>"
      ],
      "text/plain": [
       "                  flavor  january  february  march  april  may  june  july  \\\n",
       "0             red velvet      781       524    364    157  894    56    89   \n",
       "1                   oreo      210       324    344     32  123     1     3   \n",
       "2           sugar glazed      599       674    854     14  467    78    36   \n",
       "3           almond honey      124       112    114     23  198    12    32   \n",
       "4                 matcha      645       498    885     98  177    98    43   \n",
       "5       strawberry cream      210       372    369     78  163    26    45   \n",
       "6       brown sugar boba      981       380    154     14  147    15    98   \n",
       "7        furits and nuts      478       462    354     49   89     0     1   \n",
       "8         dark chocolate      598       203     36     96  789     4     5   \n",
       "9   chocolate and orange      324       123     48     32   65    74    78   \n",
       "10            choco mint      458       412     78     78   78     7     3   \n",
       "11   choco butter naught      778       586    645    100  987    63    36   \n",
       "\n",
       "    august  september  october  november  december  \n",
       "0       41         23       78       231       899  \n",
       "1        0          1        6       312       548  \n",
       "2       48         75       98       781      1602  \n",
       "3       41         23       36       300       566  \n",
       "4       96         26       71       549       897  \n",
       "5       22         54       41       207       456  \n",
       "6       33         23       36       552       633  \n",
       "7        0          1        8       335       214  \n",
       "8        0          8        0       789       458  \n",
       "9       45         89      100       632       231  \n",
       "10       8          2        1       323       564  \n",
       "11      89         78       99       784      2310  "
      ]
     },
     "execution_count": 5,
     "metadata": {},
     "output_type": "execute_result"
    }
   ],
   "source": [
    "sales "
   ]
  },
  {
   "cell_type": "markdown",
   "metadata": {},
   "source": [
    "## Part 1: Monthly Sales"
   ]
  },
  {
   "cell_type": "code",
   "execution_count": 10,
   "metadata": {},
   "outputs": [
    {
     "ename": "AttributeError",
     "evalue": "'numpy.ndarray' object has no attribute 'set_index'",
     "output_type": "error",
     "traceback": [
      "\u001b[1;31m---------------------------------------------------------------------------\u001b[0m",
      "\u001b[1;31mAttributeError\u001b[0m                            Traceback (most recent call last)",
      "\u001b[1;32m<ipython-input-10-27e544634db2>\u001b[0m in \u001b[0;36m<module>\u001b[1;34m\u001b[0m\n\u001b[1;32m----> 1\u001b[1;33m \u001b[0msales_mat\u001b[0m \u001b[1;33m=\u001b[0m \u001b[0mnp\u001b[0m\u001b[1;33m.\u001b[0m\u001b[0marray\u001b[0m\u001b[1;33m(\u001b[0m\u001b[0msales\u001b[0m\u001b[1;33m.\u001b[0m\u001b[0mset_index\u001b[0m\u001b[1;33m(\u001b[0m\u001b[1;34m'flavor'\u001b[0m\u001b[1;33m)\u001b[0m\u001b[1;33m)\u001b[0m\u001b[1;33m\u001b[0m\u001b[1;33m\u001b[0m\u001b[0m\n\u001b[0m\u001b[0;32m      2\u001b[0m \u001b[0mprices_mat\u001b[0m \u001b[1;33m=\u001b[0m \u001b[0mnp\u001b[0m\u001b[1;33m.\u001b[0m\u001b[0marray\u001b[0m\u001b[1;33m(\u001b[0m\u001b[0mprices\u001b[0m\u001b[1;33m.\u001b[0m\u001b[0mset_index\u001b[0m\u001b[1;33m(\u001b[0m\u001b[1;34m'unnamed: 0'\u001b[0m\u001b[1;33m)\u001b[0m\u001b[1;33m)\u001b[0m\u001b[1;33m[\u001b[0m\u001b[1;36m0\u001b[0m\u001b[1;33m]\u001b[0m\u001b[1;33m\u001b[0m\u001b[1;33m\u001b[0m\u001b[0m\n\u001b[0;32m      3\u001b[0m \u001b[0mcosts_mat\u001b[0m \u001b[1;33m=\u001b[0m \u001b[0mnp\u001b[0m\u001b[1;33m.\u001b[0m\u001b[0marray\u001b[0m\u001b[1;33m(\u001b[0m\u001b[0mprices\u001b[0m\u001b[1;33m.\u001b[0m\u001b[0mset_index\u001b[0m\u001b[1;33m(\u001b[0m\u001b[1;34m'unnamed: 0'\u001b[0m\u001b[1;33m)\u001b[0m\u001b[1;33m)\u001b[0m\u001b[1;33m[\u001b[0m\u001b[1;36m1\u001b[0m\u001b[1;33m]\u001b[0m\u001b[1;33m\u001b[0m\u001b[1;33m\u001b[0m\u001b[0m\n\u001b[0;32m      4\u001b[0m \u001b[1;33m\u001b[0m\u001b[0m\n\u001b[0;32m      5\u001b[0m \u001b[1;33m\u001b[0m\u001b[0m\n",
      "\u001b[1;31mAttributeError\u001b[0m: 'numpy.ndarray' object has no attribute 'set_index'"
     ]
    }
   ],
   "source": [
    "sales_mat = np.array(sales.set_index('flavor'))\n",
    "prices_mat = np.array(prices.set_index('0'))[0] \n",
    "costs_mat = np.array(prices.set_index('1'))[1]\n",
    "\n",
    "\n",
    "price_reshaped=np.reshape(prices_mat,(12,1))\n",
    "cost_reshaped=np.reshape(costs_mat,(12,1))\n",
    "\n",
    "\n",
    "print(sales_mat.shape)\n",
    "print(price_reshaped.shape)\n",
    "print(cost_reshaped.shape)"
   ]
  },
  {
   "cell_type": "markdown",
   "metadata": {},
   "source": [
    "#### Formulas"
   ]
  },
  {
   "cell_type": "markdown",
   "metadata": {},
   "source": [
    "Take note that the fomula for revenue is: <br>\n",
    "$revenue = sales * price $ <br>\n",
    "In this case, think that revenue, sales, and price are vectors instead of individual values <br>\n",
    "The formula of cost per item sold is: <br>\n",
    "$cost_{sold} = sales * cost$ <br>\n",
    "The formula for profit is: <br>\n",
    "$profit = revenue - cost_{sold}$ <br>\n",
    "Solving for the monthly profit will be the sum of all profits made on that month."
   ]
  },
  {
   "cell_type": "code",
   "execution_count": 20,
   "metadata": {},
   "outputs": [],
   "source": [
    "def sales(price, cost, sales):\n",
    "    \n",
    "    \n",
    "    revenue =sales_mat * price_mat.difference(axis=5)\n",
    "    costs = sales_mat * costs_mat.difference(axis=5)\n",
    "    profits = revenue - costs_mat*sales_mat.sum(axis=5)    \n",
    "    return revenue, costs, profits\n",
    "    "
   ]
  },
  {
   "cell_type": "code",
   "execution_count": 19,
   "metadata": {},
   "outputs": [
    {
     "ename": "NameError",
     "evalue": "name 'prices_mat' is not defined",
     "output_type": "error",
     "traceback": [
      "\u001b[1;31m---------------------------------------------------------------------------\u001b[0m",
      "\u001b[1;31mNameError\u001b[0m                                 Traceback (most recent call last)",
      "\u001b[1;32m<ipython-input-19-93bfb93ead74>\u001b[0m in \u001b[0;36m<module>\u001b[1;34m\u001b[0m\n\u001b[1;32m----> 1\u001b[1;33m \u001b[0mrev\u001b[0m\u001b[1;33m,\u001b[0m \u001b[0mcost\u001b[0m\u001b[1;33m,\u001b[0m \u001b[0mprofit\u001b[0m \u001b[1;33m=\u001b[0m \u001b[0msales\u001b[0m\u001b[1;33m(\u001b[0m\u001b[0mprices_mat\u001b[0m\u001b[1;33m,\u001b[0m \u001b[0mcosts_mat\u001b[0m\u001b[1;33m,\u001b[0m \u001b[0msales_mat\u001b[0m\u001b[1;33m)\u001b[0m\u001b[1;33m\u001b[0m\u001b[1;33m\u001b[0m\u001b[0m\n\u001b[0m\u001b[0;32m      2\u001b[0m \u001b[0mprint\u001b[0m\u001b[1;33m(\u001b[0m\u001b[1;34m'revenue:'\u001b[0m\u001b[1;33m,\u001b[0m\u001b[1;34m'\\n'\u001b[0m\u001b[1;33m,\u001b[0m\u001b[0mrev\u001b[0m\u001b[1;33m,\u001b[0m\u001b[1;34m'\\n\\ncost:\\n'\u001b[0m\u001b[1;33m,\u001b[0m\u001b[0mcost\u001b[0m\u001b[1;33m,\u001b[0m\u001b[1;34m'\\n\\n'\u001b[0m\u001b[1;33m,\u001b[0m\u001b[1;34m'profits:\\n'\u001b[0m\u001b[1;33m,\u001b[0m\u001b[0mmonth_profit\u001b[0m\u001b[1;33m)\u001b[0m\u001b[1;33m\u001b[0m\u001b[1;33m\u001b[0m\u001b[0m\n",
      "\u001b[1;31mNameError\u001b[0m: name 'prices_mat' is not defined"
     ]
    }
   ],
   "source": [
    "rev, cost, profit = sales(prices_mat, costs_mat, sales_mat)\n",
    "print('revenue:','\\n',rev,'\\n\\ncost:\\n',cost,'\\n\\n','profits:\\n',month_profit)"
   ]
  },
  {
   "cell_type": "markdown",
   "metadata": {},
   "source": [
    "## Part 2: Flavor Sales"
   ]
  },
  {
   "cell_type": "code",
   "execution_count": 21,
   "metadata": {},
   "outputs": [],
   "source": [
    "def flavor_sales(price, cost, sales):\n",
    "     \n",
    "     \n",
    "    revenue = sales_mat*prices_mat.sum(axis=5)\n",
    "    costs = sales_mat*costs_mat.sum(axis=5)\n",
    "    profits = revenue - costs_mat*sales_mat.sum(axis=5)\n",
    "    return profits\n"
   ]
  },
  {
   "cell_type": "code",
   "execution_count": 22,
   "metadata": {},
   "outputs": [
    {
     "ename": "NameError",
     "evalue": "name 'prices_mat' is not defined",
     "output_type": "error",
     "traceback": [
      "\u001b[1;31m---------------------------------------------------------------------------\u001b[0m",
      "\u001b[1;31mNameError\u001b[0m                                 Traceback (most recent call last)",
      "\u001b[1;32m<ipython-input-22-2935a6ba52b4>\u001b[0m in \u001b[0;36m<module>\u001b[1;34m\u001b[0m\n\u001b[1;32m----> 1\u001b[1;33m \u001b[0mprofit\u001b[0m \u001b[1;33m=\u001b[0m \u001b[0msales\u001b[0m\u001b[1;33m(\u001b[0m\u001b[0mprices_mat\u001b[0m\u001b[1;33m,\u001b[0m \u001b[0mcosts_mat\u001b[0m\u001b[1;33m,\u001b[0m \u001b[0msales_mat\u001b[0m\u001b[1;33m)\u001b[0m\u001b[1;33m\u001b[0m\u001b[1;33m\u001b[0m\u001b[0m\n\u001b[0m\u001b[0;32m      2\u001b[0m \u001b[1;33m\u001b[0m\u001b[0m\n\u001b[0;32m      3\u001b[0m \u001b[0mprint\u001b[0m\u001b[1;33m(\u001b[0m\u001b[1;34m'\\nFlavor Profit:\\n'\u001b[0m\u001b[1;33m,\u001b[0m\u001b[0mprofit\u001b[0m\u001b[1;33m)\u001b[0m\u001b[1;33m\u001b[0m\u001b[1;33m\u001b[0m\u001b[0m\n\u001b[0;32m      4\u001b[0m \u001b[0mprint\u001b[0m\u001b[1;33m(\u001b[0m\u001b[1;34m'\\nFlavor Sales:\\n'\u001b[0m\u001b[1;33m,\u001b[0m\u001b[0msales_mat\u001b[0m\u001b[1;33m.\u001b[0m\u001b[0msum\u001b[0m\u001b[1;33m(\u001b[0m\u001b[0maxis\u001b[0m\u001b[1;33m=\u001b[0m\u001b[1;36m5\u001b[0m\u001b[1;33m)\u001b[0m\u001b[1;33m)\u001b[0m\u001b[1;33m\u001b[0m\u001b[1;33m\u001b[0m\u001b[0m\n",
      "\u001b[1;31mNameError\u001b[0m: name 'prices_mat' is not defined"
     ]
    }
   ],
   "source": [
    "profit = sales(prices_mat, costs_mat, sales_mat)\n",
    " \n",
    "print('\\nFlavor Profit:\\n',profit)\n",
    "print('\\nFlavor Sales:\\n',sales_mat.sum(axis=5))"
   ]
  },
  {
   "cell_type": "code",
   "execution_count": 23,
   "metadata": {},
   "outputs": [
    {
     "ename": "SyntaxError",
     "evalue": "invalid syntax (<ipython-input-23-f8dd5b536750>, line 8)",
     "output_type": "error",
     "traceback": [
      "\u001b[1;36m  File \u001b[1;32m\"<ipython-input-23-f8dd5b536750>\"\u001b[1;36m, line \u001b[1;32m8\u001b[0m\n\u001b[1;33m    sales\u001b[0m\n\u001b[1;37m    ^\u001b[0m\n\u001b[1;31mSyntaxError\u001b[0m\u001b[1;31m:\u001b[0m invalid syntax\n"
     ]
    }
   ],
   "source": [
    "sales['Total_Sales']=[sales_mat(axis=5),sales_mat(axis=5),sales_mat(axis=5)\n",
    ",sales_mat(axis=5),sales_mat(axis=5),sales_mat(axis=5),sales_mat(axis=5)\n",
    ",sales_mat(axis=5),sales_mat(axis=5),sales_mat(axis=5),sales_mat(axis=5)\n",
    ",sales_mat(axis=5)\n",
    "\n",
    "\n",
    "\n",
    "sales"
   ]
  },
  {
   "cell_type": "code",
   "execution_count": 26,
   "metadata": {},
   "outputs": [
    {
     "ename": "SyntaxError",
     "evalue": "invalid syntax (<ipython-input-26-a050fd1cddc3>, line 8)",
     "output_type": "error",
     "traceback": [
      "\u001b[1;36m  File \u001b[1;32m\"<ipython-input-26-a050fd1cddc3>\"\u001b[1;36m, line \u001b[1;32m8\u001b[0m\n\u001b[1;33m    sales.sum(axis=5),sales.sum(axis=5),sales.sum(axis=5):\u001b[0m\n\u001b[1;37m                                                         ^\u001b[0m\n\u001b[1;31mSyntaxError\u001b[0m\u001b[1;31m:\u001b[0m invalid syntax\n"
     ]
    }
   ],
   "source": [
    "sale=sales_mat\n",
    "\n",
    "sale={'month':['january','february','march','april','may','june',\n",
    "                       'july','august','september','october','november','december']\n",
    "              ,'sales':[sales.sum(axis=5),sales.sum(axis=5),sales.sum(axis=5),\n",
    "                        sales.sum(axis=5),sales.sum(axis=5),sales.sum(axis=5),\n",
    "                        sales.sum(axis=5),sales.sum(axis=5),sales.sum(axis=5),\n",
    "                        sales.sum(axis=5),sales.sum(axis=5),sales.sum(axis=5):\n",
    "\n",
    "pd.DataFrame(data=sale)"
   ]
  },
  {
   "cell_type": "code",
   "execution_count": 28,
   "metadata": {},
   "outputs": [
    {
     "ename": "SyntaxError",
     "evalue": "invalid syntax (<ipython-input-28-e443f102d744>, line 7)",
     "output_type": "error",
     "traceback": [
      "\u001b[1;36m  File \u001b[1;32m\"<ipython-input-28-e443f102d744>\"\u001b[1;36m, line \u001b[1;32m7\u001b[0m\n\u001b[1;33m    pd.DataFrame(data=top_3_flavor)\u001b[0m\n\u001b[1;37m    ^\u001b[0m\n\u001b[1;31mSyntaxError\u001b[0m\u001b[1;31m:\u001b[0m invalid syntax\n"
     ]
    }
   ],
   "source": [
    "flavor=sorted(sales.Total_Sales, reverse=True)\n",
    "\n",
    "\n",
    "top_3_flavor={'top 3 flavor':['oreo','red velvet','sugar glazed'],\n",
    "             'sales':[sorted_flavor,sorted_flavor,sorted_flavor]\n",
    "\n",
    "pd.DataFrame(data=top_3_flavor)"
   ]
  },
  {
   "cell_type": "code",
   "execution_count": 29,
   "metadata": {},
   "outputs": [
    {
     "ename": "SyntaxError",
     "evalue": "invalid syntax (<ipython-input-29-d33d86d842f7>, line 4)",
     "output_type": "error",
     "traceback": [
      "\u001b[1;36m  File \u001b[1;32m\"<ipython-input-29-d33d86d842f7>\"\u001b[1;36m, line \u001b[1;32m4\u001b[0m\n\u001b[1;33m    pd.DataFrame(data=worst_3_flavor)\u001b[0m\n\u001b[1;37m    ^\u001b[0m\n\u001b[1;31mSyntaxError\u001b[0m\u001b[1;31m:\u001b[0m invalid syntax\n"
     ]
    }
   ],
   "source": [
    "least_3_flavor={'least 3 flavor':['choco mint','chocolate and orange','choco butter naught']\n",
    "              ,'sales':[sorted_flavor,sorted_flavor,sorted_flavor]\n",
    "\n",
    "pd.DataFrame(data=worst_3_flavor)"
   ]
  },
  {
   "cell_type": "markdown",
   "metadata": {},
   "source": [
    "## Part 3: Visualizing the Data (Optional for +40%)\n",
    "You can try to visualize the data in the most comprehensible chart that you can use."
   ]
  },
  {
   "cell_type": "markdown",
   "metadata": {},
   "source": [
    "#### Entire Dataset"
   ]
  },
  {
   "cell_type": "code",
   "execution_count": null,
   "metadata": {},
   "outputs": [],
   "source": []
  },
  {
   "cell_type": "markdown",
   "metadata": {},
   "source": [
    "#### Monthly Sales"
   ]
  },
  {
   "cell_type": "code",
   "execution_count": null,
   "metadata": {},
   "outputs": [],
   "source": []
  },
  {
   "cell_type": "markdown",
   "metadata": {},
   "source": [
    "#### Flavor Sales"
   ]
  },
  {
   "cell_type": "markdown",
   "metadata": {},
   "source": [
    "## Part 4: Business Recommendation and Conclusion\n",
    "Present the findings of your data analysis and provide recommendations"
   ]
  },
  {
   "cell_type": "markdown",
   "metadata": {},
   "source": [
    "As for this activity this shows that bebang shows to us her prices for each of the food that she sells. and also she shows her sales through the 12 months of doing her business. And you can see the top 3 that she sells and the least 3. On the part 1 of this activity it shows that, bebang shows her updated monthly sales in those 12 months how much this she sells. and it shows the formula on how to compute for the monthly sales and the flavor sales for each month. And it computes also for the top 3 and the least 3 of the flavor. All i can say about for Be"
   ]
  },
  {
   "cell_type": "code",
   "execution_count": null,
   "metadata": {},
   "outputs": [],
   "source": []
  }
 ],
 "metadata": {
  "kernelspec": {
   "display_name": "Python 3",
   "language": "python",
   "name": "python3"
  },
  "language_info": {
   "codemirror_mode": {
    "name": "ipython",
    "version": 3
   },
   "file_extension": ".py",
   "mimetype": "text/x-python",
   "name": "python",
   "nbconvert_exporter": "python",
   "pygments_lexer": "ipython3",
   "version": "3.8.3"
  }
 },
 "nbformat": 4,
 "nbformat_minor": 4
}
